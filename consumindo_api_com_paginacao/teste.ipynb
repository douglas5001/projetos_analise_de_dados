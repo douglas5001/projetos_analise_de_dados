{
 "cells": [
  {
   "cell_type": "code",
   "execution_count": null,
   "id": "05993209-1db0-4a75-a326-1c360e538b51",
   "metadata": {},
   "outputs": [],
   "source": [
    "import pandas as pd\n",
    "import requests\n",
    "\n",
    "# Parâmetros iniciais\n",
    "data_inicial = \"26/06/2024\"\n",
    "data_final = \"30/06/2024\"\n",
    "situacao = \"em_andamento\"\n",
    "chave_api = \"teste\"\n",
    "\n",
    "# Cabeçalhos\n",
    "headers = {\n",
    "    \"chave-api\": chave_api\n",
    "}\n",
    "\n",
    "# URL base da API\n",
    "url = \"https://teste/rest/views/consultar/39-a6\"\n",
    "\n",
    "# Inicializando variáveis\n",
    "pular_pagina = 1\n",
    "tabela_final = pd.DataFrame()\n",
    "\n",
    "# Loop para iteração sobre as páginas\n",
    "while True:\n",
    "    params = {\n",
    "        \"data_inicial\": data_inicial,\n",
    "        \"data_final\": data_final,\n",
    "        \"situacao\": situacao,\n",
    "        \"pagina\": pular_pagina\n",
    "    }\n",
    "\n",
    "    try:\n",
    "        # Solicitação à API\n",
    "        requisicao = requests.get(url, headers=headers, params=params)\n",
    "        requisicao.raise_for_status()  # Verifica se a requisição foi bem-sucedida\n",
    "\n",
    "        informacoes = requisicao.json()\n",
    "        \n",
    "        # Verificação se há dados a serem processados\n",
    "        if not informacoes or (isinstance(informacoes, list) and not informacoes) or (isinstance(informacoes, dict) and not informacoes):\n",
    "            break  # Sai do loop se não há mais dados\n",
    "        \n",
    "        # Criação do DataFrame com os dados da página atual\n",
    "        tabela = pd.DataFrame(informacoes)\n",
    "        break\n",
    "        Concatenação dos dados no DataFrame final\n",
    "        tabela_final = pd.concat([tabela_final, tabela], ignore_index=True)\n",
    "        \n",
    "        # Incremento do contador de páginas\n",
    "        pular_pagina += 1\n",
    "        \n",
    "\n",
    "    except requests.exceptions.RequestException as e:\n",
    "        print(f\"Erro na solicitação: {e}\")\n",
    "        break\n",
    "\n",
    "# Mostrar o DataFrame final\n",
    "display(tabela)\n"
   ]
  },
  {
   "cell_type": "code",
   "execution_count": 3,
   "id": "1ff0213f-ebef-4000-b488-16a7793b221a",
   "metadata": {
    "tags": []
   },
   "outputs": [
    {
     "name": "stdout",
     "output_type": "stream",
     "text": [
      "o sistema continua, dados = 2\n",
      "o sistema continua, dados = 4\n",
      "o sistema continua, dados = 6\n",
      "o sistema continua, dados = 8\n",
      "Condição atingida, saindo do loop\n"
     ]
    }
   ],
   "source": [
    "dados = 0  # Inicializa dados fora do loop\n",
    "\n",
    "while True:\n",
    "    dados += 2  # Incrementa dados a cada iteração\n",
    "    \n",
    "    if dados == 10:\n",
    "        print(\"Condição atingida, saindo do loop\")\n",
    "        break  # Sai do loop quando dados for igual a 10\n",
    "    else:\n",
    "        print(\"o sistema continua, dados =\", dados)"
   ]
  },
  {
   "cell_type": "code",
   "execution_count": null,
   "id": "efdf065d-cde3-4c45-8e66-7e6a96d3efca",
   "metadata": {},
   "outputs": [],
   "source": [
    "def fetch_data_from_api_paging_projects(version,api_key, company_id, endpoint,page=1):\n",
    "    url = f\"https://api.ekyte.com/{version}/v4/{endpoint}?apiKey={api_key}&companyId={company_id}&page={page}\"\n",
    "    response = requests.get(url)\n",
    "    if response.status_code == 200:\n",
    "        return response.json()\n",
    "    else:\n",
    "        return None\n",
    "\n",
    "\n",
    "def collect_data_paging(api_key, endpoint,start_date):\n",
    "\n",
    "    #start_date = date(2024, 1, 1)\n",
    "    end_date = datetime.now().date()\n",
    "    data_collected = []\n",
    "    page = 1\n",
    "    date_range = pd.date_range(start=start_date, end=end_date, freq='1D')\n",
    "    print(f'Extraindo dados de {endpoint}')\n",
    "\n",
    "    while start_date <= end_date:\n",
    "        page = 1\n",
    "        while True:\n",
    "            data = fetch_data_from_api_paging('v1.0',api_key, start_date.strftime(\"%Y-%m-%d\"),endpoint, page)\n",
    "            if data and 'data' in data:\n",
    "                data_collected.extend(data['data'])\n",
    "                if page >= data['paging']['totalPages']:\n",
    "                    break\n",
    "                page += 1\n",
    "            else:\n",
    "                break\n",
    "        start_date += timedelta(days=1)\n",
    "    return data_collected"
   ]
  }
 ],
 "metadata": {
  "kernelspec": {
   "display_name": "Python 3 (ipykernel)",
   "language": "python",
   "name": "python3"
  },
  "language_info": {
   "codemirror_mode": {
    "name": "ipython",
    "version": 3
   },
   "file_extension": ".py",
   "mimetype": "text/x-python",
   "name": "python",
   "nbconvert_exporter": "python",
   "pygments_lexer": "ipython3",
   "version": "3.11.4"
  }
 },
 "nbformat": 4,
 "nbformat_minor": 5
}
