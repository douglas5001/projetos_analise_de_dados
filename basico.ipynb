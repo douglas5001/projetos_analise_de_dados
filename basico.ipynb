{
 "cells": [
  {
   "cell_type": "code",
   "execution_count": 1,
   "id": "1c2bea13-9028-4a24-9a79-9fbc482c5c1c",
   "metadata": {
    "tags": []
   },
   "outputs": [
    {
     "name": "stdin",
     "output_type": "stream",
     "text": [
      "Digite o 1valor:  2\n",
      "Digite o 2valor:  2\n",
      "Digite o 3valor:  2\n",
      "Digite o 4valor:  2\n",
      "Digite o 5valor:  2\n"
     ]
    },
    {
     "name": "stdout",
     "output_type": "stream",
     "text": [
      "Você informou 5 n;umeros pares ea soma deles é igual a 10\n"
     ]
    }
   ],
   "source": [
    "soma = 0 \n",
    "cont = 0\n",
    "for c in range(1,6):\n",
    "    num = int(input('Digite o {}valor: '.format(c)))\n",
    "    if num % 2 == 0:\n",
    "        soma = soma + num\n",
    "        cont = cont + 1\n",
    "print('Você informou {} números pares ea soma deles é igual a {}'.format(cont, soma))\n"
   ]
  },
  {
   "cell_type": "code",
   "execution_count": 2,
   "id": "1617f3ae-72ad-4ac1-9daf-ca9cb899c6f5",
   "metadata": {
    "tags": []
   },
   "outputs": [
    {
     "name": "stdout",
     "output_type": "stream",
     "text": [
      "11\n",
      "12\n",
      "13\n",
      "14\n",
      "15\n",
      "16\n",
      "17\n",
      "18\n",
      "19\n",
      "FIM\n"
     ]
    }
   ],
   "source": [
    "c = 1\n",
    "while c < 10:\n",
    "    s = c + 10\n",
    "    print(s)\n",
    "    c = c + 1\n",
    "print('FIM')"
   ]
  },
  {
   "cell_type": "markdown",
   "id": "eb62e47f-d078-4dce-b198-59be11549f95",
   "metadata": {},
   "source": [
    "# Arrays"
   ]
  },
  {
   "cell_type": "code",
   "execution_count": 3,
   "id": "5262eaf3-17f4-4704-b137-6e9b22d2634c",
   "metadata": {
    "tags": []
   },
   "outputs": [
    {
     "name": "stdout",
     "output_type": "stream",
     "text": [
      "[2, 5, 7, 9]\n"
     ]
    }
   ],
   "source": [
    "num = [2, 5, 7, 9] \n",
    "print(num)"
   ]
  },
  {
   "cell_type": "code",
   "execution_count": 4,
   "id": "02d20f90-e0a1-4e9b-abb8-6e1b4c301dba",
   "metadata": {
    "tags": []
   },
   "outputs": [],
   "source": [
    "num.append(8)"
   ]
  },
  {
   "cell_type": "code",
   "execution_count": 5,
   "id": "5a326a3d-6f18-48e9-91f7-4963157f65ce",
   "metadata": {
    "tags": []
   },
   "outputs": [
    {
     "name": "stdout",
     "output_type": "stream",
     "text": [
      "[2, 5, 7, 9, 8]\n"
     ]
    }
   ],
   "source": [
    "print(num)"
   ]
  },
  {
   "cell_type": "code",
   "execution_count": 6,
   "id": "bc3d28e0-0eb4-44e1-aa63-c7d97665121b",
   "metadata": {
    "tags": []
   },
   "outputs": [
    {
     "data": {
      "text/plain": [
       "[2, 5, 0, 7, 9, 8]"
      ]
     },
     "execution_count": 6,
     "metadata": {},
     "output_type": "execute_result"
    }
   ],
   "source": [
    "num.insert(2,0)\n",
    "num\n",
    "#Na posicao 2 adiciona o zero"
   ]
  },
  {
   "cell_type": "code",
   "execution_count": 7,
   "id": "a826bc32-3107-4e71-9d71-27888a011456",
   "metadata": {
    "tags": []
   },
   "outputs": [
    {
     "data": {
      "text/plain": [
       "[2, 5, 0, 9, 8]"
      ]
     },
     "execution_count": 7,
     "metadata": {},
     "output_type": "execute_result"
    }
   ],
   "source": [
    "num.remove(7)\n",
    "num"
   ]
  },
  {
   "cell_type": "code",
   "execution_count": 8,
   "id": "9431bbf8-a36e-4b2a-9f84-a729bd3ce7b6",
   "metadata": {
    "tags": []
   },
   "outputs": [
    {
     "data": {
      "text/plain": [
       "[2, 5, 0, 8]"
      ]
     },
     "execution_count": 8,
     "metadata": {},
     "output_type": "execute_result"
    }
   ],
   "source": [
    "num.pop(3) #Remove posicao\n",
    "num"
   ]
  },
  {
   "cell_type": "markdown",
   "id": "cf048d0a-b17c-44ea-92e7-e271bdf1852c",
   "metadata": {},
   "source": [
    "# Tuplas\n",
    "Tupla é imutavel"
   ]
  },
  {
   "cell_type": "code",
   "execution_count": 9,
   "id": "ec47395e-7f3e-408c-8572-adac3b727c6b",
   "metadata": {
    "tags": []
   },
   "outputs": [],
   "source": [
    "num2 = (2, 5, 7, 9)"
   ]
  },
  {
   "cell_type": "code",
   "execution_count": 10,
   "id": "f1238c82-3bfe-44b2-b29d-ea544589ab81",
   "metadata": {
    "tags": []
   },
   "outputs": [
    {
     "ename": "TypeError",
     "evalue": "'tuple' object does not support item assignment",
     "output_type": "error",
     "traceback": [
      "\u001b[0;31m---------------------------------------------------------------------------\u001b[0m",
      "\u001b[0;31mTypeError\u001b[0m                                 Traceback (most recent call last)",
      "Cell \u001b[0;32mIn[10], line 1\u001b[0m\n\u001b[0;32m----> 1\u001b[0m num2[\u001b[38;5;241m3\u001b[39m] \u001b[38;5;241m=\u001b[39m \u001b[38;5;241m4\u001b[39m\n",
      "\u001b[0;31mTypeError\u001b[0m: 'tuple' object does not support item assignment"
     ]
    }
   ],
   "source": [
    "num2[3] = 4"
   ]
  },
  {
   "cell_type": "code",
   "execution_count": 11,
   "id": "d10f2eb7-5395-4e3f-b910-4af2f3b9293a",
   "metadata": {
    "tags": []
   },
   "outputs": [
    {
     "ename": "AttributeError",
     "evalue": "'tuple' object has no attribute 'append'",
     "output_type": "error",
     "traceback": [
      "\u001b[0;31m---------------------------------------------------------------------------\u001b[0m",
      "\u001b[0;31mAttributeError\u001b[0m                            Traceback (most recent call last)",
      "Cell \u001b[0;32mIn[11], line 1\u001b[0m\n\u001b[0;32m----> 1\u001b[0m num2\u001b[38;5;241m.\u001b[39mappend(\u001b[38;5;241m8\u001b[39m) \u001b[38;5;66;03m#Inclui numero 8\u001b[39;00m\n\u001b[1;32m      2\u001b[0m num2\n",
      "\u001b[0;31mAttributeError\u001b[0m: 'tuple' object has no attribute 'append'"
     ]
    }
   ],
   "source": [
    "num2.append(8) #Inclui numero 8\n",
    "num2"
   ]
  },
  {
   "cell_type": "markdown",
   "id": "b98c02c6-12b1-4d0d-aaae-4cf356efc8a9",
   "metadata": {},
   "source": [
    "# Dicionários"
   ]
  },
  {
   "cell_type": "code",
   "execution_count": 12,
   "id": "45aeb829-c946-4489-9c40-ed0916413b94",
   "metadata": {
    "tags": []
   },
   "outputs": [],
   "source": [
    "pessoas = {'nome': 'luciano', 'sexo':'masculino', 'idade':46}"
   ]
  },
  {
   "cell_type": "code",
   "execution_count": 14,
   "id": "ab790ce2-4697-4ee2-bddf-a1d1db8d8465",
   "metadata": {
    "tags": []
   },
   "outputs": [
    {
     "name": "stdout",
     "output_type": "stream",
     "text": [
      "{'nome': 'luciano', 'sexo': 'masculino', 'idade': 46, 'time': 'corinthians'}\n"
     ]
    }
   ],
   "source": [
    "pessoas['time'] = 'corinthians'\n",
    "print(pessoas)"
   ]
  },
  {
   "cell_type": "code",
   "execution_count": 15,
   "id": "b0e28d55-8d95-4c39-b1c3-1f2e038976cc",
   "metadata": {
    "tags": []
   },
   "outputs": [
    {
     "name": "stdout",
     "output_type": "stream",
     "text": [
      "{'nome': 'luciano', 'sexo': 'masculino', 'time': 'corinthians'}\n"
     ]
    }
   ],
   "source": [
    "del pessoas['idade']\n",
    "print(pessoas)"
   ]
  },
  {
   "cell_type": "markdown",
   "id": "fddc02c9-c2d0-49b6-8a80-71c117cdad13",
   "metadata": {},
   "source": [
    "# Funções"
   ]
  },
  {
   "cell_type": "code",
   "execution_count": 20,
   "id": "4b40bcda-d75b-46d9-a5f2-89b2f0a08749",
   "metadata": {
    "tags": []
   },
   "outputs": [],
   "source": [
    "def indentificacao(nome, idade):\n",
    "    print('ola',nome, '\\nVoce é jovem, tem apenas', idade, 'Anos')"
   ]
  },
  {
   "cell_type": "code",
   "execution_count": 21,
   "id": "5f6b756f-b331-44cf-8262-a1bfa782af58",
   "metadata": {
    "tags": []
   },
   "outputs": [
    {
     "name": "stdout",
     "output_type": "stream",
     "text": [
      "ola luciano \n",
      "Voce é jovem, tem apenas 46 Anos\n"
     ]
    }
   ],
   "source": [
    "indentificacao('luciano', 46)"
   ]
  },
  {
   "cell_type": "code",
   "execution_count": 22,
   "id": "52ba644a-afbb-4a89-aab3-f72683416c9c",
   "metadata": {
    "tags": []
   },
   "outputs": [],
   "source": [
    "def maior(x,y):\n",
    "    if x < y:\n",
    "        print('O maior número é', y)\n",
    "    elif x == y:\n",
    "        print('os números são iguais')\n",
    "    else:\n",
    "        print('O maior número é', x)"
   ]
  },
  {
   "cell_type": "code",
   "execution_count": 25,
   "id": "cce6f62a-3bbe-4365-8154-3b41b28cfbd4",
   "metadata": {
    "tags": []
   },
   "outputs": [
    {
     "name": "stdout",
     "output_type": "stream",
     "text": [
      "O maior número é 24\n"
     ]
    }
   ],
   "source": [
    "maior(21,24)"
   ]
  },
  {
   "cell_type": "code",
   "execution_count": null,
   "id": "ce528f0f-a08d-4626-a802-c72969b872c6",
   "metadata": {},
   "outputs": [],
   "source": [
    "def pitagoras(cat1, cat2, hip):\n",
    "    if hip == '?'"
   ]
  }
 ],
 "metadata": {
  "kernelspec": {
   "display_name": "Python 3 (ipykernel)",
   "language": "python",
   "name": "python3"
  },
  "language_info": {
   "codemirror_mode": {
    "name": "ipython",
    "version": 3
   },
   "file_extension": ".py",
   "mimetype": "text/x-python",
   "name": "python",
   "nbconvert_exporter": "python",
   "pygments_lexer": "ipython3",
   "version": "3.11.4"
  }
 },
 "nbformat": 4,
 "nbformat_minor": 5
}
