{
 "cells": [
  {
   "cell_type": "code",
   "execution_count": 1,
   "id": "e8334748-87e2-44cc-a4ef-677c49bf5d5a",
   "metadata": {
    "tags": []
   },
   "outputs": [
    {
     "name": "stdout",
     "output_type": "stream",
     "text": [
      "Requirement already satisfied: requests in /Users/douglasportella/anaconda3/lib/python3.11/site-packages (2.31.0)\n",
      "Requirement already satisfied: pandas in /Users/douglasportella/anaconda3/lib/python3.11/site-packages (1.5.3)\n",
      "Requirement already satisfied: charset-normalizer<4,>=2 in /Users/douglasportella/anaconda3/lib/python3.11/site-packages (from requests) (2.0.4)\n",
      "Requirement already satisfied: idna<4,>=2.5 in /Users/douglasportella/anaconda3/lib/python3.11/site-packages (from requests) (3.4)\n",
      "Requirement already satisfied: urllib3<3,>=1.21.1 in /Users/douglasportella/anaconda3/lib/python3.11/site-packages (from requests) (1.26.16)\n",
      "Requirement already satisfied: certifi>=2017.4.17 in /Users/douglasportella/anaconda3/lib/python3.11/site-packages (from requests) (2023.7.22)\n",
      "Requirement already satisfied: python-dateutil>=2.8.1 in /Users/douglasportella/anaconda3/lib/python3.11/site-packages (from pandas) (2.8.2)\n",
      "Requirement already satisfied: pytz>=2020.1 in /Users/douglasportella/anaconda3/lib/python3.11/site-packages (from pandas) (2022.7)\n",
      "Requirement already satisfied: numpy>=1.21.0 in /Users/douglasportella/anaconda3/lib/python3.11/site-packages (from pandas) (1.24.3)\n",
      "Requirement already satisfied: six>=1.5 in /Users/douglasportella/anaconda3/lib/python3.11/site-packages (from python-dateutil>=2.8.1->pandas) (1.16.0)\n",
      "Note: you may need to restart the kernel to use updated packages.\n"
     ]
    }
   ],
   "source": [
    "pip install requests pandas"
   ]
  },
  {
   "cell_type": "code",
   "execution_count": 6,
   "id": "ae9dfaac-57eb-4788-a19a-a1ae3b8e29ea",
   "metadata": {
    "tags": []
   },
   "outputs": [
    {
     "data": {
      "text/html": [
       "<div>\n",
       "<style scoped>\n",
       "    .dataframe tbody tr th:only-of-type {\n",
       "        vertical-align: middle;\n",
       "    }\n",
       "\n",
       "    .dataframe tbody tr th {\n",
       "        vertical-align: top;\n",
       "    }\n",
       "\n",
       "    .dataframe thead th {\n",
       "        text-align: right;\n",
       "    }\n",
       "</style>\n",
       "<table border=\"1\" class=\"dataframe\">\n",
       "  <thead>\n",
       "    <tr style=\"text-align: right;\">\n",
       "      <th></th>\n",
       "      <th>id</th>\n",
       "      <th>name</th>\n",
       "      <th>base_experience</th>\n",
       "      <th>height</th>\n",
       "      <th>abilities</th>\n",
       "      <th>held_items</th>\n",
       "      <th>moves</th>\n",
       "      <th>sprites</th>\n",
       "    </tr>\n",
       "  </thead>\n",
       "  <tbody>\n",
       "    <tr>\n",
       "      <th>0</th>\n",
       "      <td>132</td>\n",
       "      <td>ditto</td>\n",
       "      <td>101</td>\n",
       "      <td>3</td>\n",
       "      <td>[limber, imposter]</td>\n",
       "      <td>[metal-powder, quick-powder]</td>\n",
       "      <td>[transform]</td>\n",
       "      <td>https://raw.githubusercontent.com/PokeAPI/spri...</td>\n",
       "    </tr>\n",
       "  </tbody>\n",
       "</table>\n",
       "</div>"
      ],
      "text/plain": [
       "    id   name  base_experience  height           abilities  \\\n",
       "0  132  ditto              101       3  [limber, imposter]   \n",
       "\n",
       "                     held_items        moves  \\\n",
       "0  [metal-powder, quick-powder]  [transform]   \n",
       "\n",
       "                                             sprites  \n",
       "0  https://raw.githubusercontent.com/PokeAPI/spri...  "
      ]
     },
     "metadata": {},
     "output_type": "display_data"
    }
   ],
   "source": [
    "import requests\n",
    "import pandas as pd\n",
    "\n",
    "# URL da API\n",
    "url = \"https://pokeapi.co/api/v2/pokemon/ditto\"\n",
    "\n",
    "# Solicitação GET para a API\n",
    "response = requests.get(url)\n",
    "data = response.json()\n",
    "\n",
    "# Organizando os dados em um DataFrame\n",
    "ditto_data = {\n",
    "    'id': data['id'],\n",
    "    'name': data['name'],\n",
    "    'base_experience': data['base_experience'],\n",
    "    'height': data['height'],\n",
    "    'abilities': [ability['ability']['name'] for ability in data['abilities']],\n",
    "    'held_items': [item['item']['name'] for item in data['held_items']],\n",
    "    'moves': [move['move']['name'] for move in data['moves']],\n",
    "    'sprites': data['sprites']['front_default']\n",
    "}\n",
    "\n",
    "# Criando DataFrame\n",
    "df = pd.DataFrame([ditto_data])\n",
    "\n",
    "# Exibindo DataFrame\n",
    "display(df)\n"
   ]
  },
  {
   "cell_type": "code",
   "execution_count": null,
   "id": "9f752f29-02c6-459d-ba09-6c7b0f49c33d",
   "metadata": {},
   "outputs": [],
   "source": []
  }
 ],
 "metadata": {
  "kernelspec": {
   "display_name": "Python 3 (ipykernel)",
   "language": "python",
   "name": "python3"
  },
  "language_info": {
   "codemirror_mode": {
    "name": "ipython",
    "version": 3
   },
   "file_extension": ".py",
   "mimetype": "text/x-python",
   "name": "python",
   "nbconvert_exporter": "python",
   "pygments_lexer": "ipython3",
   "version": "3.11.4"
  }
 },
 "nbformat": 4,
 "nbformat_minor": 5
}
