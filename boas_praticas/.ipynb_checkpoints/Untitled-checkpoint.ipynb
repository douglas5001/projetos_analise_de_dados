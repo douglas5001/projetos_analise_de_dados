{
 "cells": [
  {
   "cell_type": "code",
   "execution_count": 2,
   "id": "1885323e-797c-4017-884c-9327d820638b",
   "metadata": {
    "tags": []
   },
   "outputs": [],
   "source": [
    "import pandas as pd\n",
    "import requests"
   ]
  },
  {
   "cell_type": "code",
   "execution_count": 3,
   "id": "e8a462a3-9557-41a2-9fcf-746ed91a9ee0",
   "metadata": {
    "tags": []
   },
   "outputs": [],
   "source": [
    "df = pd.read_excel(\"base_dados_usuarios.xlsx\")"
   ]
  },
  {
   "cell_type": "code",
   "execution_count": 4,
   "id": "4bbbbab0-1625-402c-9890-73bc09a3c3ce",
   "metadata": {
    "tags": []
   },
   "outputs": [
    {
     "data": {
      "text/html": [
       "<div>\n",
       "<style scoped>\n",
       "    .dataframe tbody tr th:only-of-type {\n",
       "        vertical-align: middle;\n",
       "    }\n",
       "\n",
       "    .dataframe tbody tr th {\n",
       "        vertical-align: top;\n",
       "    }\n",
       "\n",
       "    .dataframe thead th {\n",
       "        text-align: right;\n",
       "    }\n",
       "</style>\n",
       "<table border=\"1\" class=\"dataframe\">\n",
       "  <thead>\n",
       "    <tr style=\"text-align: right;\">\n",
       "      <th></th>\n",
       "      <th>ID do Usuário</th>\n",
       "      <th>Nome</th>\n",
       "      <th>Email</th>\n",
       "      <th>Data de Registro</th>\n",
       "      <th>Tipo de Acesso</th>\n",
       "      <th>Último Login</th>\n",
       "      <th>Status</th>\n",
       "    </tr>\n",
       "  </thead>\n",
       "  <tbody>\n",
       "    <tr>\n",
       "      <th>0</th>\n",
       "      <td>1</td>\n",
       "      <td>Usuario_1</td>\n",
       "      <td>usuario_1@exemplo.com</td>\n",
       "      <td>2024-03-12 02:06:03.760</td>\n",
       "      <td>Convidado</td>\n",
       "      <td>2024-04-14 02:06:03.760</td>\n",
       "      <td>Ativo</td>\n",
       "    </tr>\n",
       "    <tr>\n",
       "      <th>1</th>\n",
       "      <td>2</td>\n",
       "      <td>Usuario_2</td>\n",
       "      <td>usuario_2@exemplo.com</td>\n",
       "      <td>2023-04-01 02:06:03.760</td>\n",
       "      <td>Convidado</td>\n",
       "      <td>2024-05-05 02:06:03.760</td>\n",
       "      <td>Inativo</td>\n",
       "    </tr>\n",
       "    <tr>\n",
       "      <th>2</th>\n",
       "      <td>3</td>\n",
       "      <td>Usuario_3</td>\n",
       "      <td>usuario_3@exemplo.com</td>\n",
       "      <td>2022-10-04 02:06:03.760</td>\n",
       "      <td>Convidado</td>\n",
       "      <td>2024-02-06 02:06:03.760</td>\n",
       "      <td>Banido</td>\n",
       "    </tr>\n",
       "    <tr>\n",
       "      <th>3</th>\n",
       "      <td>4</td>\n",
       "      <td>Usuario_4</td>\n",
       "      <td>usuario_4@exemplo.com</td>\n",
       "      <td>2023-08-14 02:06:03.760</td>\n",
       "      <td>Convidado</td>\n",
       "      <td>2024-05-28 02:06:03.760</td>\n",
       "      <td>Inativo</td>\n",
       "    </tr>\n",
       "    <tr>\n",
       "      <th>4</th>\n",
       "      <td>5</td>\n",
       "      <td>Usuario_5</td>\n",
       "      <td>usuario_5@exemplo.com</td>\n",
       "      <td>2022-09-24 02:06:03.760</td>\n",
       "      <td>Usuário</td>\n",
       "      <td>2022-11-29 02:06:03.760</td>\n",
       "      <td>Ativo</td>\n",
       "    </tr>\n",
       "  </tbody>\n",
       "</table>\n",
       "</div>"
      ],
      "text/plain": [
       "   ID do Usuário       Nome                  Email        Data de Registro  \\\n",
       "0              1  Usuario_1  usuario_1@exemplo.com 2024-03-12 02:06:03.760   \n",
       "1              2  Usuario_2  usuario_2@exemplo.com 2023-04-01 02:06:03.760   \n",
       "2              3  Usuario_3  usuario_3@exemplo.com 2022-10-04 02:06:03.760   \n",
       "3              4  Usuario_4  usuario_4@exemplo.com 2023-08-14 02:06:03.760   \n",
       "4              5  Usuario_5  usuario_5@exemplo.com 2022-09-24 02:06:03.760   \n",
       "\n",
       "  Tipo de Acesso            Último Login   Status  \n",
       "0      Convidado 2024-04-14 02:06:03.760    Ativo  \n",
       "1      Convidado 2024-05-05 02:06:03.760  Inativo  \n",
       "2      Convidado 2024-02-06 02:06:03.760   Banido  \n",
       "3      Convidado 2024-05-28 02:06:03.760  Inativo  \n",
       "4        Usuário 2022-11-29 02:06:03.760    Ativo  "
      ]
     },
     "execution_count": 4,
     "metadata": {},
     "output_type": "execute_result"
    }
   ],
   "source": [
    "df.head()"
   ]
  },
  {
   "cell_type": "code",
   "execution_count": 6,
   "id": "2657e420-4d42-41c1-bb7e-8486a544358c",
   "metadata": {
    "tags": []
   },
   "outputs": [
    {
     "data": {
      "text/html": [
       "<div>\n",
       "<style scoped>\n",
       "    .dataframe tbody tr th:only-of-type {\n",
       "        vertical-align: middle;\n",
       "    }\n",
       "\n",
       "    .dataframe tbody tr th {\n",
       "        vertical-align: top;\n",
       "    }\n",
       "\n",
       "    .dataframe thead th {\n",
       "        text-align: right;\n",
       "    }\n",
       "</style>\n",
       "<table border=\"1\" class=\"dataframe\">\n",
       "  <thead>\n",
       "    <tr style=\"text-align: right;\">\n",
       "      <th></th>\n",
       "      <th>userId</th>\n",
       "      <th>id</th>\n",
       "      <th>title</th>\n",
       "      <th>body</th>\n",
       "    </tr>\n",
       "  </thead>\n",
       "  <tbody>\n",
       "    <tr>\n",
       "      <th>0</th>\n",
       "      <td>1</td>\n",
       "      <td>1</td>\n",
       "      <td>sunt aut facere repellat provident occaecati e...</td>\n",
       "      <td>quia et suscipit\\nsuscipit recusandae consequu...</td>\n",
       "    </tr>\n",
       "    <tr>\n",
       "      <th>1</th>\n",
       "      <td>1</td>\n",
       "      <td>2</td>\n",
       "      <td>qui est esse</td>\n",
       "      <td>est rerum tempore vitae\\nsequi sint nihil repr...</td>\n",
       "    </tr>\n",
       "    <tr>\n",
       "      <th>2</th>\n",
       "      <td>1</td>\n",
       "      <td>3</td>\n",
       "      <td>ea molestias quasi exercitationem repellat qui...</td>\n",
       "      <td>et iusto sed quo iure\\nvoluptatem occaecati om...</td>\n",
       "    </tr>\n",
       "    <tr>\n",
       "      <th>3</th>\n",
       "      <td>1</td>\n",
       "      <td>4</td>\n",
       "      <td>eum et est occaecati</td>\n",
       "      <td>ullam et saepe reiciendis voluptatem adipisci\\...</td>\n",
       "    </tr>\n",
       "    <tr>\n",
       "      <th>4</th>\n",
       "      <td>1</td>\n",
       "      <td>5</td>\n",
       "      <td>nesciunt quas odio</td>\n",
       "      <td>repudiandae veniam quaerat sunt sed\\nalias aut...</td>\n",
       "    </tr>\n",
       "  </tbody>\n",
       "</table>\n",
       "</div>"
      ],
      "text/plain": [
       "   userId  id                                              title  \\\n",
       "0       1   1  sunt aut facere repellat provident occaecati e...   \n",
       "1       1   2                                       qui est esse   \n",
       "2       1   3  ea molestias quasi exercitationem repellat qui...   \n",
       "3       1   4                               eum et est occaecati   \n",
       "4       1   5                                 nesciunt quas odio   \n",
       "\n",
       "                                                body  \n",
       "0  quia et suscipit\\nsuscipit recusandae consequu...  \n",
       "1  est rerum tempore vitae\\nsequi sint nihil repr...  \n",
       "2  et iusto sed quo iure\\nvoluptatem occaecati om...  \n",
       "3  ullam et saepe reiciendis voluptatem adipisci\\...  \n",
       "4  repudiandae veniam quaerat sunt sed\\nalias aut...  "
      ]
     },
     "execution_count": 6,
     "metadata": {},
     "output_type": "execute_result"
    }
   ],
   "source": [
    "import pandas as pd\n",
    "import requests\n",
    "\n",
    "url = \"https://jsonplaceholder.typicode.com/posts\"\n",
    "resposta = requests.get(url)\n",
    "if resposta.status_code != 200:\n",
    "    print(\"Erro com a conexão a api\")\n",
    "informacoes = resposta.json()\n",
    "#print(informacoes) \n",
    "\n",
    "df = pd.DataFrame(informacoes)\n",
    "df.head()"
   ]
  },
  {
   "cell_type": "code",
   "execution_count": null,
   "id": "035aebb5-c60e-4cc6-a8de-581b9bd7fd1b",
   "metadata": {},
   "outputs": [],
   "source": []
  }
 ],
 "metadata": {
  "kernelspec": {
   "display_name": "Python 3 (ipykernel)",
   "language": "python",
   "name": "python3"
  },
  "language_info": {
   "codemirror_mode": {
    "name": "ipython",
    "version": 3
   },
   "file_extension": ".py",
   "mimetype": "text/x-python",
   "name": "python",
   "nbconvert_exporter": "python",
   "pygments_lexer": "ipython3",
   "version": "3.11.4"
  }
 },
 "nbformat": 4,
 "nbformat_minor": 5
}
