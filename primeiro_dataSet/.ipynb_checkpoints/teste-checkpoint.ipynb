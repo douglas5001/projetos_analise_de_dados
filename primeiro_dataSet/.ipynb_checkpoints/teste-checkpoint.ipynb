{
 "cells": [
  {
   "cell_type": "code",
   "execution_count": 3,
   "id": "5b9b7e98-0faa-4fba-ba93-2dff109bc423",
   "metadata": {
    "tags": []
   },
   "outputs": [],
   "source": [
    "import pandas as pd"
   ]
  },
  {
   "cell_type": "code",
   "execution_count": 4,
   "id": "abda2ac2-1d4e-4b53-ba47-fe64034cc0de",
   "metadata": {
    "tags": []
   },
   "outputs": [],
   "source": [
    "covid_sp = pd.read_csv('dados_covid_sp.csv', sep=';', encoding='utf-8')"
   ]
  },
  {
   "cell_type": "code",
   "execution_count": 5,
   "id": "8b3593ea-1adf-4c77-91f1-4eb4e9a8cf12",
   "metadata": {
    "tags": []
   },
   "outputs": [
    {
     "data": {
      "text/html": [
       "<div>\n",
       "<style scoped>\n",
       "    .dataframe tbody tr th:only-of-type {\n",
       "        vertical-align: middle;\n",
       "    }\n",
       "\n",
       "    .dataframe tbody tr th {\n",
       "        vertical-align: top;\n",
       "    }\n",
       "\n",
       "    .dataframe thead th {\n",
       "        text-align: right;\n",
       "    }\n",
       "</style>\n",
       "<table border=\"1\" class=\"dataframe\">\n",
       "  <thead>\n",
       "    <tr style=\"text-align: right;\">\n",
       "      <th></th>\n",
       "      <th>nome_munic</th>\n",
       "      <th>codigo_ibge</th>\n",
       "      <th>dia</th>\n",
       "      <th>mes</th>\n",
       "      <th>datahora</th>\n",
       "      <th>casos</th>\n",
       "      <th>casos_novos</th>\n",
       "      <th>casos_pc</th>\n",
       "      <th>casos_mm7d</th>\n",
       "      <th>obitos</th>\n",
       "      <th>...</th>\n",
       "      <th>nome_drs</th>\n",
       "      <th>cod_drs</th>\n",
       "      <th>pop</th>\n",
       "      <th>pop_60</th>\n",
       "      <th>area</th>\n",
       "      <th>map_leg</th>\n",
       "      <th>map_leg_s</th>\n",
       "      <th>latitude</th>\n",
       "      <th>longitude</th>\n",
       "      <th>semana_epidem</th>\n",
       "    </tr>\n",
       "  </thead>\n",
       "  <tbody>\n",
       "    <tr>\n",
       "      <th>0</th>\n",
       "      <td>Adamantina</td>\n",
       "      <td>3500105</td>\n",
       "      <td>25</td>\n",
       "      <td>2</td>\n",
       "      <td>2020-02-25</td>\n",
       "      <td>0</td>\n",
       "      <td>0</td>\n",
       "      <td>0,00000000000000e+00</td>\n",
       "      <td>0,000000000000000</td>\n",
       "      <td>0</td>\n",
       "      <td>...</td>\n",
       "      <td>Marília</td>\n",
       "      <td>5</td>\n",
       "      <td>33894</td>\n",
       "      <td>7398</td>\n",
       "      <td>41199</td>\n",
       "      <td>0</td>\n",
       "      <td>8.0</td>\n",
       "      <td>-21,6820</td>\n",
       "      <td>-51,0737</td>\n",
       "      <td>9</td>\n",
       "    </tr>\n",
       "    <tr>\n",
       "      <th>1</th>\n",
       "      <td>Adolfo</td>\n",
       "      <td>3500204</td>\n",
       "      <td>25</td>\n",
       "      <td>2</td>\n",
       "      <td>2020-02-25</td>\n",
       "      <td>0</td>\n",
       "      <td>0</td>\n",
       "      <td>0,00000000000000e+00</td>\n",
       "      <td>0,000000000000000</td>\n",
       "      <td>0</td>\n",
       "      <td>...</td>\n",
       "      <td>São José do Rio Preto</td>\n",
       "      <td>15</td>\n",
       "      <td>3447</td>\n",
       "      <td>761</td>\n",
       "      <td>21106</td>\n",
       "      <td>0</td>\n",
       "      <td>8.0</td>\n",
       "      <td>-21,2325</td>\n",
       "      <td>-49,6451</td>\n",
       "      <td>9</td>\n",
       "    </tr>\n",
       "    <tr>\n",
       "      <th>2</th>\n",
       "      <td>Aguaí</td>\n",
       "      <td>3500303</td>\n",
       "      <td>25</td>\n",
       "      <td>2</td>\n",
       "      <td>2020-02-25</td>\n",
       "      <td>0</td>\n",
       "      <td>0</td>\n",
       "      <td>0,00000000000000e+00</td>\n",
       "      <td>0,000000000000000</td>\n",
       "      <td>0</td>\n",
       "      <td>...</td>\n",
       "      <td>São João da Boa Vista</td>\n",
       "      <td>14</td>\n",
       "      <td>35608</td>\n",
       "      <td>5245</td>\n",
       "      <td>47455</td>\n",
       "      <td>0</td>\n",
       "      <td>8.0</td>\n",
       "      <td>-22,0572</td>\n",
       "      <td>-46,9735</td>\n",
       "      <td>9</td>\n",
       "    </tr>\n",
       "    <tr>\n",
       "      <th>3</th>\n",
       "      <td>Águas da Prata</td>\n",
       "      <td>3500402</td>\n",
       "      <td>25</td>\n",
       "      <td>2</td>\n",
       "      <td>2020-02-25</td>\n",
       "      <td>0</td>\n",
       "      <td>0</td>\n",
       "      <td>0,00000000000000e+00</td>\n",
       "      <td>0,000000000000000</td>\n",
       "      <td>0</td>\n",
       "      <td>...</td>\n",
       "      <td>São João da Boa Vista</td>\n",
       "      <td>14</td>\n",
       "      <td>7797</td>\n",
       "      <td>1729</td>\n",
       "      <td>14267</td>\n",
       "      <td>0</td>\n",
       "      <td>8.0</td>\n",
       "      <td>-21,9319</td>\n",
       "      <td>-46,7176</td>\n",
       "      <td>9</td>\n",
       "    </tr>\n",
       "    <tr>\n",
       "      <th>4</th>\n",
       "      <td>Águas de Lindóia</td>\n",
       "      <td>3500501</td>\n",
       "      <td>25</td>\n",
       "      <td>2</td>\n",
       "      <td>2020-02-25</td>\n",
       "      <td>0</td>\n",
       "      <td>0</td>\n",
       "      <td>0,00000000000000e+00</td>\n",
       "      <td>0,000000000000000</td>\n",
       "      <td>0</td>\n",
       "      <td>...</td>\n",
       "      <td>Campinas</td>\n",
       "      <td>3</td>\n",
       "      <td>18374</td>\n",
       "      <td>3275</td>\n",
       "      <td>6013</td>\n",
       "      <td>0</td>\n",
       "      <td>8.0</td>\n",
       "      <td>-22,4733</td>\n",
       "      <td>-46,6314</td>\n",
       "      <td>9</td>\n",
       "    </tr>\n",
       "  </tbody>\n",
       "</table>\n",
       "<p>5 rows × 26 columns</p>\n",
       "</div>"
      ],
      "text/plain": [
       "         nome_munic  codigo_ibge  dia  mes    datahora  casos  casos_novos  \\\n",
       "0        Adamantina      3500105   25    2  2020-02-25      0            0   \n",
       "1            Adolfo      3500204   25    2  2020-02-25      0            0   \n",
       "2             Aguaí      3500303   25    2  2020-02-25      0            0   \n",
       "3    Águas da Prata      3500402   25    2  2020-02-25      0            0   \n",
       "4  Águas de Lindóia      3500501   25    2  2020-02-25      0            0   \n",
       "\n",
       "               casos_pc         casos_mm7d  obitos  ...  \\\n",
       "0  0,00000000000000e+00  0,000000000000000       0  ...   \n",
       "1  0,00000000000000e+00  0,000000000000000       0  ...   \n",
       "2  0,00000000000000e+00  0,000000000000000       0  ...   \n",
       "3  0,00000000000000e+00  0,000000000000000       0  ...   \n",
       "4  0,00000000000000e+00  0,000000000000000       0  ...   \n",
       "\n",
       "                nome_drs cod_drs    pop pop_60   area  map_leg map_leg_s  \\\n",
       "0                Marília       5  33894   7398  41199        0       8.0   \n",
       "1  São José do Rio Preto      15   3447    761  21106        0       8.0   \n",
       "2  São João da Boa Vista      14  35608   5245  47455        0       8.0   \n",
       "3  São João da Boa Vista      14   7797   1729  14267        0       8.0   \n",
       "4               Campinas       3  18374   3275   6013        0       8.0   \n",
       "\n",
       "   latitude  longitude  semana_epidem  \n",
       "0  -21,6820   -51,0737              9  \n",
       "1  -21,2325   -49,6451              9  \n",
       "2  -22,0572   -46,9735              9  \n",
       "3  -21,9319   -46,7176              9  \n",
       "4  -22,4733   -46,6314              9  \n",
       "\n",
       "[5 rows x 26 columns]"
      ]
     },
     "execution_count": 5,
     "metadata": {},
     "output_type": "execute_result"
    }
   ],
   "source": [
    "covid_sp.head()"
   ]
  },
  {
   "cell_type": "code",
   "execution_count": 6,
   "id": "111cd1a1-fa82-45a9-b550-381cd48f83eb",
   "metadata": {
    "tags": []
   },
   "outputs": [],
   "source": [
    "filtro = covid_sp[(covid_sp[\"nome_drs\"] != \"Campinas\") & (covid_sp[\"nome_munic\"] == \"Aguaí\")]\n",
    "\n"
   ]
  },
  {
   "cell_type": "code",
   "execution_count": 7,
   "id": "84dc0fdc-e4be-4340-864b-8b6bd2fada51",
   "metadata": {
    "tags": []
   },
   "outputs": [
    {
     "data": {
      "text/html": [
       "<div>\n",
       "<style scoped>\n",
       "    .dataframe tbody tr th:only-of-type {\n",
       "        vertical-align: middle;\n",
       "    }\n",
       "\n",
       "    .dataframe tbody tr th {\n",
       "        vertical-align: top;\n",
       "    }\n",
       "\n",
       "    .dataframe thead th {\n",
       "        text-align: right;\n",
       "    }\n",
       "</style>\n",
       "<table border=\"1\" class=\"dataframe\">\n",
       "  <thead>\n",
       "    <tr style=\"text-align: right;\">\n",
       "      <th></th>\n",
       "      <th>nome_munic</th>\n",
       "      <th>codigo_ibge</th>\n",
       "      <th>dia</th>\n",
       "      <th>mes</th>\n",
       "      <th>datahora</th>\n",
       "      <th>casos</th>\n",
       "      <th>casos_novos</th>\n",
       "      <th>casos_pc</th>\n",
       "      <th>casos_mm7d</th>\n",
       "      <th>obitos</th>\n",
       "      <th>...</th>\n",
       "      <th>nome_drs</th>\n",
       "      <th>cod_drs</th>\n",
       "      <th>pop</th>\n",
       "      <th>pop_60</th>\n",
       "      <th>area</th>\n",
       "      <th>map_leg</th>\n",
       "      <th>map_leg_s</th>\n",
       "      <th>latitude</th>\n",
       "      <th>longitude</th>\n",
       "      <th>semana_epidem</th>\n",
       "    </tr>\n",
       "  </thead>\n",
       "  <tbody>\n",
       "    <tr>\n",
       "      <th>2</th>\n",
       "      <td>Aguaí</td>\n",
       "      <td>3500303</td>\n",
       "      <td>25</td>\n",
       "      <td>2</td>\n",
       "      <td>2020-02-25</td>\n",
       "      <td>0</td>\n",
       "      <td>0</td>\n",
       "      <td>0,00000000000000e+00</td>\n",
       "      <td>0,000000000000000</td>\n",
       "      <td>0</td>\n",
       "      <td>...</td>\n",
       "      <td>São João da Boa Vista</td>\n",
       "      <td>14</td>\n",
       "      <td>35608</td>\n",
       "      <td>5245</td>\n",
       "      <td>47455</td>\n",
       "      <td>0</td>\n",
       "      <td>8.0</td>\n",
       "      <td>-22,0572</td>\n",
       "      <td>-46,9735</td>\n",
       "      <td>9</td>\n",
       "    </tr>\n",
       "    <tr>\n",
       "      <th>647</th>\n",
       "      <td>Aguaí</td>\n",
       "      <td>3500303</td>\n",
       "      <td>26</td>\n",
       "      <td>2</td>\n",
       "      <td>2020-02-26</td>\n",
       "      <td>0</td>\n",
       "      <td>0</td>\n",
       "      <td>0,00000000000000e+00</td>\n",
       "      <td>0,000000000000000</td>\n",
       "      <td>0</td>\n",
       "      <td>...</td>\n",
       "      <td>São João da Boa Vista</td>\n",
       "      <td>14</td>\n",
       "      <td>35608</td>\n",
       "      <td>5245</td>\n",
       "      <td>47455</td>\n",
       "      <td>0</td>\n",
       "      <td>8.0</td>\n",
       "      <td>-22,0572</td>\n",
       "      <td>-46,9735</td>\n",
       "      <td>9</td>\n",
       "    </tr>\n",
       "    <tr>\n",
       "      <th>1292</th>\n",
       "      <td>Aguaí</td>\n",
       "      <td>3500303</td>\n",
       "      <td>27</td>\n",
       "      <td>2</td>\n",
       "      <td>2020-02-27</td>\n",
       "      <td>0</td>\n",
       "      <td>0</td>\n",
       "      <td>0,00000000000000e+00</td>\n",
       "      <td>0,000000000000000</td>\n",
       "      <td>0</td>\n",
       "      <td>...</td>\n",
       "      <td>São João da Boa Vista</td>\n",
       "      <td>14</td>\n",
       "      <td>35608</td>\n",
       "      <td>5245</td>\n",
       "      <td>47455</td>\n",
       "      <td>0</td>\n",
       "      <td>8.0</td>\n",
       "      <td>-22,0572</td>\n",
       "      <td>-46,9735</td>\n",
       "      <td>9</td>\n",
       "    </tr>\n",
       "    <tr>\n",
       "      <th>1937</th>\n",
       "      <td>Aguaí</td>\n",
       "      <td>3500303</td>\n",
       "      <td>28</td>\n",
       "      <td>2</td>\n",
       "      <td>2020-02-28</td>\n",
       "      <td>0</td>\n",
       "      <td>0</td>\n",
       "      <td>0,00000000000000e+00</td>\n",
       "      <td>0,000000000000000</td>\n",
       "      <td>0</td>\n",
       "      <td>...</td>\n",
       "      <td>São João da Boa Vista</td>\n",
       "      <td>14</td>\n",
       "      <td>35608</td>\n",
       "      <td>5245</td>\n",
       "      <td>47455</td>\n",
       "      <td>0</td>\n",
       "      <td>8.0</td>\n",
       "      <td>-22,0572</td>\n",
       "      <td>-46,9735</td>\n",
       "      <td>9</td>\n",
       "    </tr>\n",
       "    <tr>\n",
       "      <th>2582</th>\n",
       "      <td>Aguaí</td>\n",
       "      <td>3500303</td>\n",
       "      <td>29</td>\n",
       "      <td>2</td>\n",
       "      <td>2020-02-29</td>\n",
       "      <td>0</td>\n",
       "      <td>0</td>\n",
       "      <td>0,00000000000000e+00</td>\n",
       "      <td>0,000000000000000</td>\n",
       "      <td>0</td>\n",
       "      <td>...</td>\n",
       "      <td>São João da Boa Vista</td>\n",
       "      <td>14</td>\n",
       "      <td>35608</td>\n",
       "      <td>5245</td>\n",
       "      <td>47455</td>\n",
       "      <td>0</td>\n",
       "      <td>8.0</td>\n",
       "      <td>-22,0572</td>\n",
       "      <td>-46,9735</td>\n",
       "      <td>9</td>\n",
       "    </tr>\n",
       "  </tbody>\n",
       "</table>\n",
       "<p>5 rows × 26 columns</p>\n",
       "</div>"
      ],
      "text/plain": [
       "     nome_munic  codigo_ibge  dia  mes    datahora  casos  casos_novos  \\\n",
       "2         Aguaí      3500303   25    2  2020-02-25      0            0   \n",
       "647       Aguaí      3500303   26    2  2020-02-26      0            0   \n",
       "1292      Aguaí      3500303   27    2  2020-02-27      0            0   \n",
       "1937      Aguaí      3500303   28    2  2020-02-28      0            0   \n",
       "2582      Aguaí      3500303   29    2  2020-02-29      0            0   \n",
       "\n",
       "                  casos_pc         casos_mm7d  obitos  ...  \\\n",
       "2     0,00000000000000e+00  0,000000000000000       0  ...   \n",
       "647   0,00000000000000e+00  0,000000000000000       0  ...   \n",
       "1292  0,00000000000000e+00  0,000000000000000       0  ...   \n",
       "1937  0,00000000000000e+00  0,000000000000000       0  ...   \n",
       "2582  0,00000000000000e+00  0,000000000000000       0  ...   \n",
       "\n",
       "                   nome_drs cod_drs    pop pop_60   area  map_leg map_leg_s  \\\n",
       "2     São João da Boa Vista      14  35608   5245  47455        0       8.0   \n",
       "647   São João da Boa Vista      14  35608   5245  47455        0       8.0   \n",
       "1292  São João da Boa Vista      14  35608   5245  47455        0       8.0   \n",
       "1937  São João da Boa Vista      14  35608   5245  47455        0       8.0   \n",
       "2582  São João da Boa Vista      14  35608   5245  47455        0       8.0   \n",
       "\n",
       "      latitude  longitude  semana_epidem  \n",
       "2     -22,0572   -46,9735              9  \n",
       "647   -22,0572   -46,9735              9  \n",
       "1292  -22,0572   -46,9735              9  \n",
       "1937  -22,0572   -46,9735              9  \n",
       "2582  -22,0572   -46,9735              9  \n",
       "\n",
       "[5 rows x 26 columns]"
      ]
     },
     "execution_count": 7,
     "metadata": {},
     "output_type": "execute_result"
    }
   ],
   "source": [
    "filtro.head()"
   ]
  },
  {
   "cell_type": "code",
   "execution_count": 8,
   "id": "8cdfefc4-e7f0-45c0-9b17-d203dcac9ba6",
   "metadata": {
    "tags": []
   },
   "outputs": [],
   "source": [
    "filtro.to_excel(\"filtro_covid.xlsx\", index=False)"
   ]
  },
  {
   "cell_type": "code",
   "execution_count": 9,
   "id": "7ddc22fb-da22-449b-8bd3-094d3a799c2d",
   "metadata": {
    "tags": []
   },
   "outputs": [
    {
     "data": {
      "text/plain": [
       "(579, 26)"
      ]
     },
     "execution_count": 9,
     "metadata": {},
     "output_type": "execute_result"
    }
   ],
   "source": [
    "filtro.shape"
   ]
  },
  {
   "cell_type": "code",
   "execution_count": 27,
   "id": "aa49bca7-cd85-4364-8497-b7a038107930",
   "metadata": {
    "tags": []
   },
   "outputs": [],
   "source": [
    "lista = list(range(1,2582))"
   ]
  },
  {
   "cell_type": "code",
   "execution_count": 28,
   "id": "01ce2e70-a171-4304-bb19-bd8390e5c066",
   "metadata": {
    "tags": []
   },
   "outputs": [],
   "source": [
    "df = pd.DataFrame(lista,columns=['indice'])"
   ]
  },
  {
   "cell_type": "code",
   "execution_count": 29,
   "id": "f6c2c59c-5691-42e7-8f61-3aced5769177",
   "metadata": {
    "tags": []
   },
   "outputs": [],
   "source": [
    "filtro = pd.concat([filtro,df],axis=1)"
   ]
  },
  {
   "cell_type": "code",
   "execution_count": 32,
   "id": "cf1b39d0-84d4-4c99-9f40-a46ab889b6aa",
   "metadata": {
    "tags": []
   },
   "outputs": [
    {
     "ename": "AttributeError",
     "evalue": "'DataFrame' object has no attribute 'len'",
     "output_type": "error",
     "traceback": [
      "\u001b[0;31m---------------------------------------------------------------------------\u001b[0m",
      "\u001b[0;31mAttributeError\u001b[0m                            Traceback (most recent call last)",
      "Cell \u001b[0;32mIn[32], line 1\u001b[0m\n\u001b[0;32m----> 1\u001b[0m filtro\u001b[38;5;241m.\u001b[39mlen()\n",
      "File \u001b[0;32m~/anaconda3/lib/python3.11/site-packages/pandas/core/generic.py:5902\u001b[0m, in \u001b[0;36mNDFrame.__getattr__\u001b[0;34m(self, name)\u001b[0m\n\u001b[1;32m   5895\u001b[0m \u001b[38;5;28;01mif\u001b[39;00m (\n\u001b[1;32m   5896\u001b[0m     name \u001b[38;5;129;01mnot\u001b[39;00m \u001b[38;5;129;01min\u001b[39;00m \u001b[38;5;28mself\u001b[39m\u001b[38;5;241m.\u001b[39m_internal_names_set\n\u001b[1;32m   5897\u001b[0m     \u001b[38;5;129;01mand\u001b[39;00m name \u001b[38;5;129;01mnot\u001b[39;00m \u001b[38;5;129;01min\u001b[39;00m \u001b[38;5;28mself\u001b[39m\u001b[38;5;241m.\u001b[39m_metadata\n\u001b[1;32m   5898\u001b[0m     \u001b[38;5;129;01mand\u001b[39;00m name \u001b[38;5;129;01mnot\u001b[39;00m \u001b[38;5;129;01min\u001b[39;00m \u001b[38;5;28mself\u001b[39m\u001b[38;5;241m.\u001b[39m_accessors\n\u001b[1;32m   5899\u001b[0m     \u001b[38;5;129;01mand\u001b[39;00m \u001b[38;5;28mself\u001b[39m\u001b[38;5;241m.\u001b[39m_info_axis\u001b[38;5;241m.\u001b[39m_can_hold_identifiers_and_holds_name(name)\n\u001b[1;32m   5900\u001b[0m ):\n\u001b[1;32m   5901\u001b[0m     \u001b[38;5;28;01mreturn\u001b[39;00m \u001b[38;5;28mself\u001b[39m[name]\n\u001b[0;32m-> 5902\u001b[0m \u001b[38;5;28;01mreturn\u001b[39;00m \u001b[38;5;28mobject\u001b[39m\u001b[38;5;241m.\u001b[39m\u001b[38;5;21m__getattribute__\u001b[39m(\u001b[38;5;28mself\u001b[39m, name)\n",
      "\u001b[0;31mAttributeError\u001b[0m: 'DataFrame' object has no attribute 'len'"
     ]
    }
   ],
   "source": [
    "filtro.head()"
   ]
  },
  {
   "cell_type": "code",
   "execution_count": 20,
   "id": "bc604bff-2a48-49ee-b8d5-4d015cfe73ac",
   "metadata": {
    "tags": []
   },
   "outputs": [
    {
     "data": {
      "text/plain": [
       "2       3.0\n",
       "647     NaN\n",
       "1292    NaN\n",
       "1937    NaN\n",
       "2582    NaN\n",
       "Name: indice, dtype: float64"
      ]
     },
     "execution_count": 20,
     "metadata": {},
     "output_type": "execute_result"
    }
   ],
   "source": [
    "filtro[\"indice\"].head()"
   ]
  },
  {
   "cell_type": "code",
   "execution_count": null,
   "id": "cecc5bf4-f9b2-4dbe-99b0-0581a92b4bb1",
   "metadata": {},
   "outputs": [],
   "source": []
  }
 ],
 "metadata": {
  "kernelspec": {
   "display_name": "Python 3 (ipykernel)",
   "language": "python",
   "name": "python3"
  },
  "language_info": {
   "codemirror_mode": {
    "name": "ipython",
    "version": 3
   },
   "file_extension": ".py",
   "mimetype": "text/x-python",
   "name": "python",
   "nbconvert_exporter": "python",
   "pygments_lexer": "ipython3",
   "version": "3.11.4"
  }
 },
 "nbformat": 4,
 "nbformat_minor": 5
}
